{
  "cells": [
    {
      "cell_type": "markdown",
      "metadata": {
        "id": "view-in-github",
        "colab_type": "text"
      },
      "source": [
        "<a href=\"https://colab.research.google.com/github/MohammedZuhairAhmed/Salary-prediction-using-skillset/blob/main/Final_analysis.ipynb\" target=\"_parent\"><img src=\"https://colab.research.google.com/assets/colab-badge.svg\" alt=\"Open In Colab\"/></a>"
      ]
    },
    {
      "cell_type": "markdown",
      "id": "f24791a8",
      "metadata": {
        "id": "f24791a8"
      },
      "source": [
        "## Importing required libraries\n"
      ]
    },
    {
      "cell_type": "code",
      "source": [],
      "metadata": {
        "id": "xBzDjzc_Ck37"
      },
      "id": "xBzDjzc_Ck37",
      "execution_count": null,
      "outputs": []
    },
    {
      "cell_type": "code",
      "execution_count": null,
      "id": "8246b17a",
      "metadata": {
        "id": "8246b17a"
      },
      "outputs": [],
      "source": [
        "import os\n",
        "import pandas as pd\n",
        "import matplotlib.pyplot as plt\n",
        "import numpy as np\n",
        "from sklearn.linear_model import LinearRegression\n",
        "from sklearn.model_selection import train_test_split\n",
        "from sklearn.metrics import mean_absolute_error , mean_absolute_percentage_error , mean_squared_error, r2_score\n",
        "from sklearn.ensemble import RandomForestRegressor\n",
        "from sklearn.preprocessing import StandardScaler\n",
        "from tabulate import tabulate"
      ]
    },
    {
      "cell_type": "markdown",
      "id": "b8c10d69",
      "metadata": {
        "id": "b8c10d69"
      },
      "source": [
        "## Setting the path to the data file"
      ]
    },
    {
      "cell_type": "code",
      "execution_count": null,
      "id": "4aa4909d",
      "metadata": {
        "scrolled": true,
        "id": "4aa4909d"
      },
      "outputs": [],
      "source": [
        "os.chdir(\"D:\\data science\\open-ended\\data-files\") \n",
        "missing_values= [\"na\",np.nan] #setting the null values to guide the pandas library for removal of null values from data\n",
        "df = pd.read_csv(\"eda_data.csv\",index_col=0,na_values=missing_values)\n",
        "data = pd.read_csv(\"eda_data.csv\",na_values=missing_values)\n",
        "data = data.dropna()"
      ]
    },
    {
      "cell_type": "markdown",
      "id": "898ce607",
      "metadata": {
        "id": "898ce607"
      },
      "source": [
        "## Dataset values"
      ]
    },
    {
      "cell_type": "code",
      "execution_count": null,
      "id": "90969e0a",
      "metadata": {
        "id": "90969e0a",
        "outputId": "360fdf6d-1ac8-443a-e194-46e40a8cba03"
      },
      "outputs": [
        {
          "data": {
            "text/html": [
              "<div>\n",
              "<style scoped>\n",
              "    .dataframe tbody tr th:only-of-type {\n",
              "        vertical-align: middle;\n",
              "    }\n",
              "\n",
              "    .dataframe tbody tr th {\n",
              "        vertical-align: top;\n",
              "    }\n",
              "\n",
              "    .dataframe thead th {\n",
              "        text-align: right;\n",
              "    }\n",
              "</style>\n",
              "<table border=\"1\" class=\"dataframe\">\n",
              "  <thead>\n",
              "    <tr style=\"text-align: right;\">\n",
              "      <th></th>\n",
              "      <th>Job Title</th>\n",
              "      <th>Salary Estimate</th>\n",
              "      <th>Job Description</th>\n",
              "      <th>Rating</th>\n",
              "      <th>Company Name</th>\n",
              "      <th>Location</th>\n",
              "      <th>Headquarters</th>\n",
              "      <th>Size</th>\n",
              "      <th>Founded</th>\n",
              "      <th>Type of ownership</th>\n",
              "      <th>...</th>\n",
              "      <th>age</th>\n",
              "      <th>python_yn</th>\n",
              "      <th>R_yn</th>\n",
              "      <th>spark</th>\n",
              "      <th>aws</th>\n",
              "      <th>excel</th>\n",
              "      <th>job_simp</th>\n",
              "      <th>seniority</th>\n",
              "      <th>desc_len</th>\n",
              "      <th>num_comp</th>\n",
              "    </tr>\n",
              "  </thead>\n",
              "  <tbody>\n",
              "    <tr>\n",
              "      <th>0</th>\n",
              "      <td>Data Scientist</td>\n",
              "      <td>$53K-$91K (Glassdoor est.)</td>\n",
              "      <td>Data Scientist\\nLocation: Albuquerque, NM\\nEdu...</td>\n",
              "      <td>3.8</td>\n",
              "      <td>Tecolote Research\\n3.8</td>\n",
              "      <td>Albuquerque, NM</td>\n",
              "      <td>Goleta, CA</td>\n",
              "      <td>501 to 1000 employees</td>\n",
              "      <td>1973</td>\n",
              "      <td>Company - Private</td>\n",
              "      <td>...</td>\n",
              "      <td>47</td>\n",
              "      <td>1</td>\n",
              "      <td>0</td>\n",
              "      <td>0</td>\n",
              "      <td>0</td>\n",
              "      <td>1</td>\n",
              "      <td>data scientist</td>\n",
              "      <td>NaN</td>\n",
              "      <td>2536</td>\n",
              "      <td>0</td>\n",
              "    </tr>\n",
              "    <tr>\n",
              "      <th>1</th>\n",
              "      <td>Healthcare Data Scientist</td>\n",
              "      <td>$63K-$112K (Glassdoor est.)</td>\n",
              "      <td>What You Will Do:\\n\\nI. General Summary\\n\\nThe...</td>\n",
              "      <td>3.4</td>\n",
              "      <td>University of Maryland Medical System\\n3.4</td>\n",
              "      <td>Linthicum, MD</td>\n",
              "      <td>Baltimore, MD</td>\n",
              "      <td>10000+ employees</td>\n",
              "      <td>1984</td>\n",
              "      <td>Other Organization</td>\n",
              "      <td>...</td>\n",
              "      <td>36</td>\n",
              "      <td>1</td>\n",
              "      <td>0</td>\n",
              "      <td>0</td>\n",
              "      <td>0</td>\n",
              "      <td>0</td>\n",
              "      <td>data scientist</td>\n",
              "      <td>NaN</td>\n",
              "      <td>4783</td>\n",
              "      <td>0</td>\n",
              "    </tr>\n",
              "    <tr>\n",
              "      <th>2</th>\n",
              "      <td>Data Scientist</td>\n",
              "      <td>$80K-$90K (Glassdoor est.)</td>\n",
              "      <td>KnowBe4, Inc. is a high growth information sec...</td>\n",
              "      <td>4.8</td>\n",
              "      <td>KnowBe4\\n4.8</td>\n",
              "      <td>Clearwater, FL</td>\n",
              "      <td>Clearwater, FL</td>\n",
              "      <td>501 to 1000 employees</td>\n",
              "      <td>2010</td>\n",
              "      <td>Company - Private</td>\n",
              "      <td>...</td>\n",
              "      <td>10</td>\n",
              "      <td>1</td>\n",
              "      <td>0</td>\n",
              "      <td>1</td>\n",
              "      <td>0</td>\n",
              "      <td>1</td>\n",
              "      <td>data scientist</td>\n",
              "      <td>NaN</td>\n",
              "      <td>3461</td>\n",
              "      <td>0</td>\n",
              "    </tr>\n",
              "    <tr>\n",
              "      <th>3</th>\n",
              "      <td>Data Scientist</td>\n",
              "      <td>$56K-$97K (Glassdoor est.)</td>\n",
              "      <td>*Organization and Job ID**\\nJob ID: 310709\\n\\n...</td>\n",
              "      <td>3.8</td>\n",
              "      <td>PNNL\\n3.8</td>\n",
              "      <td>Richland, WA</td>\n",
              "      <td>Richland, WA</td>\n",
              "      <td>1001 to 5000 employees</td>\n",
              "      <td>1965</td>\n",
              "      <td>Government</td>\n",
              "      <td>...</td>\n",
              "      <td>55</td>\n",
              "      <td>1</td>\n",
              "      <td>0</td>\n",
              "      <td>0</td>\n",
              "      <td>0</td>\n",
              "      <td>0</td>\n",
              "      <td>data scientist</td>\n",
              "      <td>NaN</td>\n",
              "      <td>3883</td>\n",
              "      <td>3</td>\n",
              "    </tr>\n",
              "    <tr>\n",
              "      <th>4</th>\n",
              "      <td>Data Scientist</td>\n",
              "      <td>$86K-$143K (Glassdoor est.)</td>\n",
              "      <td>Data Scientist\\nAffinity Solutions / Marketing...</td>\n",
              "      <td>2.9</td>\n",
              "      <td>Affinity Solutions\\n2.9</td>\n",
              "      <td>New York, NY</td>\n",
              "      <td>New York, NY</td>\n",
              "      <td>51 to 200 employees</td>\n",
              "      <td>1998</td>\n",
              "      <td>Company - Private</td>\n",
              "      <td>...</td>\n",
              "      <td>22</td>\n",
              "      <td>1</td>\n",
              "      <td>0</td>\n",
              "      <td>0</td>\n",
              "      <td>0</td>\n",
              "      <td>1</td>\n",
              "      <td>data scientist</td>\n",
              "      <td>NaN</td>\n",
              "      <td>2728</td>\n",
              "      <td>3</td>\n",
              "    </tr>\n",
              "    <tr>\n",
              "      <th>...</th>\n",
              "      <td>...</td>\n",
              "      <td>...</td>\n",
              "      <td>...</td>\n",
              "      <td>...</td>\n",
              "      <td>...</td>\n",
              "      <td>...</td>\n",
              "      <td>...</td>\n",
              "      <td>...</td>\n",
              "      <td>...</td>\n",
              "      <td>...</td>\n",
              "      <td>...</td>\n",
              "      <td>...</td>\n",
              "      <td>...</td>\n",
              "      <td>...</td>\n",
              "      <td>...</td>\n",
              "      <td>...</td>\n",
              "      <td>...</td>\n",
              "      <td>...</td>\n",
              "      <td>...</td>\n",
              "      <td>...</td>\n",
              "      <td>...</td>\n",
              "    </tr>\n",
              "    <tr>\n",
              "      <th>737</th>\n",
              "      <td>Sr Scientist, Immuno-Oncology - Oncology</td>\n",
              "      <td>$58K-$111K (Glassdoor est.)</td>\n",
              "      <td>Site Name: USA - Massachusetts - Cambridge\\nPo...</td>\n",
              "      <td>3.9</td>\n",
              "      <td>GSK\\n3.9</td>\n",
              "      <td>Cambridge, MA</td>\n",
              "      <td>Brentford, United Kingdom</td>\n",
              "      <td>10000+ employees</td>\n",
              "      <td>1830</td>\n",
              "      <td>Company - Public</td>\n",
              "      <td>...</td>\n",
              "      <td>190</td>\n",
              "      <td>0</td>\n",
              "      <td>0</td>\n",
              "      <td>0</td>\n",
              "      <td>1</td>\n",
              "      <td>0</td>\n",
              "      <td>NaN</td>\n",
              "      <td>senior</td>\n",
              "      <td>6162</td>\n",
              "      <td>3</td>\n",
              "    </tr>\n",
              "    <tr>\n",
              "      <th>738</th>\n",
              "      <td>Senior Data Engineer</td>\n",
              "      <td>$72K-$133K (Glassdoor est.)</td>\n",
              "      <td>THE CHALLENGE\\nEventbrite has a world-class da...</td>\n",
              "      <td>4.4</td>\n",
              "      <td>Eventbrite\\n4.4</td>\n",
              "      <td>Nashville, TN</td>\n",
              "      <td>San Francisco, CA</td>\n",
              "      <td>1001 to 5000 employees</td>\n",
              "      <td>2006</td>\n",
              "      <td>Company - Public</td>\n",
              "      <td>...</td>\n",
              "      <td>14</td>\n",
              "      <td>1</td>\n",
              "      <td>0</td>\n",
              "      <td>1</td>\n",
              "      <td>1</td>\n",
              "      <td>0</td>\n",
              "      <td>data engineer</td>\n",
              "      <td>senior</td>\n",
              "      <td>6130</td>\n",
              "      <td>3</td>\n",
              "    </tr>\n",
              "    <tr>\n",
              "      <th>739</th>\n",
              "      <td>Project Scientist - Auton Lab, Robotics Institute</td>\n",
              "      <td>$56K-$91K (Glassdoor est.)</td>\n",
              "      <td>The Auton Lab at Carnegie Mellon University is...</td>\n",
              "      <td>2.6</td>\n",
              "      <td>Software Engineering Institute\\n2.6</td>\n",
              "      <td>Pittsburgh, PA</td>\n",
              "      <td>Pittsburgh, PA</td>\n",
              "      <td>501 to 1000 employees</td>\n",
              "      <td>1984</td>\n",
              "      <td>College / University</td>\n",
              "      <td>...</td>\n",
              "      <td>36</td>\n",
              "      <td>0</td>\n",
              "      <td>0</td>\n",
              "      <td>0</td>\n",
              "      <td>0</td>\n",
              "      <td>1</td>\n",
              "      <td>NaN</td>\n",
              "      <td>NaN</td>\n",
              "      <td>3078</td>\n",
              "      <td>0</td>\n",
              "    </tr>\n",
              "    <tr>\n",
              "      <th>740</th>\n",
              "      <td>Data Science Manager</td>\n",
              "      <td>$95K-$160K (Glassdoor est.)</td>\n",
              "      <td>Data Science ManagerResponsibilities:\\n\\nOvers...</td>\n",
              "      <td>3.2</td>\n",
              "      <td>Numeric, LLC\\n3.2</td>\n",
              "      <td>Allentown, PA</td>\n",
              "      <td>Chadds Ford, PA</td>\n",
              "      <td>1 to 50 employees</td>\n",
              "      <td>-1</td>\n",
              "      <td>Company - Private</td>\n",
              "      <td>...</td>\n",
              "      <td>-1</td>\n",
              "      <td>0</td>\n",
              "      <td>0</td>\n",
              "      <td>0</td>\n",
              "      <td>0</td>\n",
              "      <td>1</td>\n",
              "      <td>manager</td>\n",
              "      <td>NaN</td>\n",
              "      <td>1642</td>\n",
              "      <td>0</td>\n",
              "    </tr>\n",
              "    <tr>\n",
              "      <th>741</th>\n",
              "      <td>Research Scientist – Security and Privacy</td>\n",
              "      <td>$61K-$126K (Glassdoor est.)</td>\n",
              "      <td>Returning Candidate? Log back in to the Career...</td>\n",
              "      <td>3.6</td>\n",
              "      <td>Riverside Research Institute\\n3.6</td>\n",
              "      <td>Beavercreek, OH</td>\n",
              "      <td>Arlington, VA</td>\n",
              "      <td>501 to 1000 employees</td>\n",
              "      <td>1967</td>\n",
              "      <td>Nonprofit Organization</td>\n",
              "      <td>...</td>\n",
              "      <td>53</td>\n",
              "      <td>1</td>\n",
              "      <td>0</td>\n",
              "      <td>0</td>\n",
              "      <td>0</td>\n",
              "      <td>0</td>\n",
              "      <td>NaN</td>\n",
              "      <td>NaN</td>\n",
              "      <td>3673</td>\n",
              "      <td>0</td>\n",
              "    </tr>\n",
              "  </tbody>\n",
              "</table>\n",
              "<p>742 rows × 32 columns</p>\n",
              "</div>"
            ],
            "text/plain": [
              "                                             Job Title  \\\n",
              "0                                       Data Scientist   \n",
              "1                            Healthcare Data Scientist   \n",
              "2                                       Data Scientist   \n",
              "3                                       Data Scientist   \n",
              "4                                       Data Scientist   \n",
              "..                                                 ...   \n",
              "737           Sr Scientist, Immuno-Oncology - Oncology   \n",
              "738                               Senior Data Engineer   \n",
              "739  Project Scientist - Auton Lab, Robotics Institute   \n",
              "740                               Data Science Manager   \n",
              "741          Research Scientist – Security and Privacy   \n",
              "\n",
              "                 Salary Estimate  \\\n",
              "0     $53K-$91K (Glassdoor est.)   \n",
              "1    $63K-$112K (Glassdoor est.)   \n",
              "2     $80K-$90K (Glassdoor est.)   \n",
              "3     $56K-$97K (Glassdoor est.)   \n",
              "4    $86K-$143K (Glassdoor est.)   \n",
              "..                           ...   \n",
              "737  $58K-$111K (Glassdoor est.)   \n",
              "738  $72K-$133K (Glassdoor est.)   \n",
              "739   $56K-$91K (Glassdoor est.)   \n",
              "740  $95K-$160K (Glassdoor est.)   \n",
              "741  $61K-$126K (Glassdoor est.)   \n",
              "\n",
              "                                       Job Description  Rating  \\\n",
              "0    Data Scientist\\nLocation: Albuquerque, NM\\nEdu...     3.8   \n",
              "1    What You Will Do:\\n\\nI. General Summary\\n\\nThe...     3.4   \n",
              "2    KnowBe4, Inc. is a high growth information sec...     4.8   \n",
              "3    *Organization and Job ID**\\nJob ID: 310709\\n\\n...     3.8   \n",
              "4    Data Scientist\\nAffinity Solutions / Marketing...     2.9   \n",
              "..                                                 ...     ...   \n",
              "737  Site Name: USA - Massachusetts - Cambridge\\nPo...     3.9   \n",
              "738  THE CHALLENGE\\nEventbrite has a world-class da...     4.4   \n",
              "739  The Auton Lab at Carnegie Mellon University is...     2.6   \n",
              "740  Data Science ManagerResponsibilities:\\n\\nOvers...     3.2   \n",
              "741  Returning Candidate? Log back in to the Career...     3.6   \n",
              "\n",
              "                                   Company Name         Location  \\\n",
              "0                        Tecolote Research\\n3.8  Albuquerque, NM   \n",
              "1    University of Maryland Medical System\\n3.4    Linthicum, MD   \n",
              "2                                  KnowBe4\\n4.8   Clearwater, FL   \n",
              "3                                     PNNL\\n3.8     Richland, WA   \n",
              "4                       Affinity Solutions\\n2.9     New York, NY   \n",
              "..                                          ...              ...   \n",
              "737                                    GSK\\n3.9    Cambridge, MA   \n",
              "738                             Eventbrite\\n4.4    Nashville, TN   \n",
              "739         Software Engineering Institute\\n2.6   Pittsburgh, PA   \n",
              "740                           Numeric, LLC\\n3.2    Allentown, PA   \n",
              "741           Riverside Research Institute\\n3.6  Beavercreek, OH   \n",
              "\n",
              "                  Headquarters                    Size  Founded  \\\n",
              "0                   Goleta, CA   501 to 1000 employees     1973   \n",
              "1                Baltimore, MD        10000+ employees     1984   \n",
              "2               Clearwater, FL   501 to 1000 employees     2010   \n",
              "3                 Richland, WA  1001 to 5000 employees     1965   \n",
              "4                 New York, NY     51 to 200 employees     1998   \n",
              "..                         ...                     ...      ...   \n",
              "737  Brentford, United Kingdom        10000+ employees     1830   \n",
              "738          San Francisco, CA  1001 to 5000 employees     2006   \n",
              "739             Pittsburgh, PA   501 to 1000 employees     1984   \n",
              "740            Chadds Ford, PA       1 to 50 employees       -1   \n",
              "741              Arlington, VA   501 to 1000 employees     1967   \n",
              "\n",
              "          Type of ownership  ...  age python_yn R_yn spark  aws  excel  \\\n",
              "0         Company - Private  ...   47         1    0     0    0      1   \n",
              "1        Other Organization  ...   36         1    0     0    0      0   \n",
              "2         Company - Private  ...   10         1    0     1    0      1   \n",
              "3                Government  ...   55         1    0     0    0      0   \n",
              "4         Company - Private  ...   22         1    0     0    0      1   \n",
              "..                      ...  ...  ...       ...  ...   ...  ...    ...   \n",
              "737        Company - Public  ...  190         0    0     0    1      0   \n",
              "738        Company - Public  ...   14         1    0     1    1      0   \n",
              "739    College / University  ...   36         0    0     0    0      1   \n",
              "740       Company - Private  ...   -1         0    0     0    0      1   \n",
              "741  Nonprofit Organization  ...   53         1    0     0    0      0   \n",
              "\n",
              "           job_simp  seniority  desc_len num_comp  \n",
              "0    data scientist        NaN      2536        0  \n",
              "1    data scientist        NaN      4783        0  \n",
              "2    data scientist        NaN      3461        0  \n",
              "3    data scientist        NaN      3883        3  \n",
              "4    data scientist        NaN      2728        3  \n",
              "..              ...        ...       ...      ...  \n",
              "737             NaN     senior      6162        3  \n",
              "738   data engineer     senior      6130        3  \n",
              "739             NaN        NaN      3078        0  \n",
              "740         manager        NaN      1642        0  \n",
              "741             NaN        NaN      3673        0  \n",
              "\n",
              "[742 rows x 32 columns]"
            ]
          },
          "execution_count": 3,
          "metadata": {},
          "output_type": "execute_result"
        }
      ],
      "source": [
        "df"
      ]
    },
    {
      "cell_type": "markdown",
      "id": "1f2b4f20",
      "metadata": {
        "id": "1f2b4f20"
      },
      "source": [
        "## Meta data Information of the data set"
      ]
    },
    {
      "cell_type": "code",
      "execution_count": null,
      "id": "849e6b11",
      "metadata": {
        "id": "849e6b11",
        "outputId": "02fce802-1164-45d0-c464-7430636d6e7a"
      },
      "outputs": [
        {
          "name": "stdout",
          "output_type": "stream",
          "text": [
            "<class 'pandas.core.frame.DataFrame'>\n",
            "Int64Index: 742 entries, 0 to 741\n",
            "Data columns (total 32 columns):\n",
            " #   Column             Non-Null Count  Dtype  \n",
            "---  ------             --------------  -----  \n",
            " 0   Job Title          742 non-null    object \n",
            " 1   Salary Estimate    742 non-null    object \n",
            " 2   Job Description    742 non-null    object \n",
            " 3   Rating             742 non-null    float64\n",
            " 4   Company Name       742 non-null    object \n",
            " 5   Location           742 non-null    object \n",
            " 6   Headquarters       742 non-null    object \n",
            " 7   Size               742 non-null    object \n",
            " 8   Founded            742 non-null    int64  \n",
            " 9   Type of ownership  742 non-null    object \n",
            " 10  Industry           742 non-null    object \n",
            " 11  Sector             742 non-null    object \n",
            " 12  Revenue            742 non-null    object \n",
            " 13  Competitors        742 non-null    object \n",
            " 14  hourly             742 non-null    int64  \n",
            " 15  employer_provided  742 non-null    int64  \n",
            " 16  min_salary         742 non-null    int64  \n",
            " 17  max_salary         742 non-null    int64  \n",
            " 18  avg_salary         742 non-null    float64\n",
            " 19  company_txt        742 non-null    object \n",
            " 20  job_state          742 non-null    object \n",
            " 21  same_state         742 non-null    int64  \n",
            " 22  age                742 non-null    int64  \n",
            " 23  python_yn          742 non-null    int64  \n",
            " 24  R_yn               742 non-null    int64  \n",
            " 25  spark              742 non-null    int64  \n",
            " 26  aws                742 non-null    int64  \n",
            " 27  excel              742 non-null    int64  \n",
            " 28  job_simp           558 non-null    object \n",
            " 29  seniority          222 non-null    object \n",
            " 30  desc_len           742 non-null    int64  \n",
            " 31  num_comp           742 non-null    int64  \n",
            "dtypes: float64(2), int64(14), object(16)\n",
            "memory usage: 191.3+ KB\n"
          ]
        }
      ],
      "source": [
        "df.info()\n"
      ]
    },
    {
      "cell_type": "markdown",
      "id": "cfedc2b2",
      "metadata": {
        "id": "cfedc2b2"
      },
      "source": [
        "## Describing the Numerical values in the data"
      ]
    },
    {
      "cell_type": "code",
      "execution_count": null,
      "id": "cf53fb6b",
      "metadata": {
        "scrolled": false,
        "id": "cf53fb6b",
        "outputId": "12eabbbc-f7d8-4aec-aee9-70b134853241"
      },
      "outputs": [
        {
          "data": {
            "text/html": [
              "<div>\n",
              "<style scoped>\n",
              "    .dataframe tbody tr th:only-of-type {\n",
              "        vertical-align: middle;\n",
              "    }\n",
              "\n",
              "    .dataframe tbody tr th {\n",
              "        vertical-align: top;\n",
              "    }\n",
              "\n",
              "    .dataframe thead th {\n",
              "        text-align: right;\n",
              "    }\n",
              "</style>\n",
              "<table border=\"1\" class=\"dataframe\">\n",
              "  <thead>\n",
              "    <tr style=\"text-align: right;\">\n",
              "      <th></th>\n",
              "      <th>Rating</th>\n",
              "      <th>Founded</th>\n",
              "      <th>hourly</th>\n",
              "      <th>employer_provided</th>\n",
              "      <th>min_salary</th>\n",
              "      <th>max_salary</th>\n",
              "      <th>avg_salary</th>\n",
              "      <th>same_state</th>\n",
              "      <th>age</th>\n",
              "      <th>python_yn</th>\n",
              "      <th>R_yn</th>\n",
              "      <th>spark</th>\n",
              "      <th>aws</th>\n",
              "      <th>excel</th>\n",
              "      <th>desc_len</th>\n",
              "      <th>num_comp</th>\n",
              "    </tr>\n",
              "  </thead>\n",
              "  <tbody>\n",
              "    <tr>\n",
              "      <th>count</th>\n",
              "      <td>742.000000</td>\n",
              "      <td>742.000000</td>\n",
              "      <td>742.000000</td>\n",
              "      <td>742.000000</td>\n",
              "      <td>742.000000</td>\n",
              "      <td>742.000000</td>\n",
              "      <td>742.000000</td>\n",
              "      <td>742.000000</td>\n",
              "      <td>742.000000</td>\n",
              "      <td>742.000000</td>\n",
              "      <td>742.000000</td>\n",
              "      <td>742.000000</td>\n",
              "      <td>742.000000</td>\n",
              "      <td>742.000000</td>\n",
              "      <td>742.000000</td>\n",
              "      <td>742.000000</td>\n",
              "    </tr>\n",
              "    <tr>\n",
              "      <th>mean</th>\n",
              "      <td>3.618868</td>\n",
              "      <td>1837.154987</td>\n",
              "      <td>0.032345</td>\n",
              "      <td>0.022911</td>\n",
              "      <td>74.719677</td>\n",
              "      <td>128.149596</td>\n",
              "      <td>100.626011</td>\n",
              "      <td>0.557951</td>\n",
              "      <td>46.591644</td>\n",
              "      <td>0.528302</td>\n",
              "      <td>0.002695</td>\n",
              "      <td>0.225067</td>\n",
              "      <td>0.237197</td>\n",
              "      <td>0.522911</td>\n",
              "      <td>3869.545822</td>\n",
              "      <td>1.053908</td>\n",
              "    </tr>\n",
              "    <tr>\n",
              "      <th>std</th>\n",
              "      <td>0.801210</td>\n",
              "      <td>497.183763</td>\n",
              "      <td>0.177034</td>\n",
              "      <td>0.149721</td>\n",
              "      <td>30.980593</td>\n",
              "      <td>45.220324</td>\n",
              "      <td>38.855948</td>\n",
              "      <td>0.496965</td>\n",
              "      <td>53.778815</td>\n",
              "      <td>0.499535</td>\n",
              "      <td>0.051882</td>\n",
              "      <td>0.417908</td>\n",
              "      <td>0.425651</td>\n",
              "      <td>0.499812</td>\n",
              "      <td>1521.495868</td>\n",
              "      <td>1.384239</td>\n",
              "    </tr>\n",
              "    <tr>\n",
              "      <th>min</th>\n",
              "      <td>-1.000000</td>\n",
              "      <td>-1.000000</td>\n",
              "      <td>0.000000</td>\n",
              "      <td>0.000000</td>\n",
              "      <td>15.000000</td>\n",
              "      <td>16.000000</td>\n",
              "      <td>13.500000</td>\n",
              "      <td>0.000000</td>\n",
              "      <td>-1.000000</td>\n",
              "      <td>0.000000</td>\n",
              "      <td>0.000000</td>\n",
              "      <td>0.000000</td>\n",
              "      <td>0.000000</td>\n",
              "      <td>0.000000</td>\n",
              "      <td>407.000000</td>\n",
              "      <td>0.000000</td>\n",
              "    </tr>\n",
              "    <tr>\n",
              "      <th>25%</th>\n",
              "      <td>3.300000</td>\n",
              "      <td>1939.000000</td>\n",
              "      <td>0.000000</td>\n",
              "      <td>0.000000</td>\n",
              "      <td>52.000000</td>\n",
              "      <td>96.000000</td>\n",
              "      <td>73.500000</td>\n",
              "      <td>0.000000</td>\n",
              "      <td>11.000000</td>\n",
              "      <td>0.000000</td>\n",
              "      <td>0.000000</td>\n",
              "      <td>0.000000</td>\n",
              "      <td>0.000000</td>\n",
              "      <td>0.000000</td>\n",
              "      <td>2801.000000</td>\n",
              "      <td>0.000000</td>\n",
              "    </tr>\n",
              "    <tr>\n",
              "      <th>50%</th>\n",
              "      <td>3.700000</td>\n",
              "      <td>1988.000000</td>\n",
              "      <td>0.000000</td>\n",
              "      <td>0.000000</td>\n",
              "      <td>69.500000</td>\n",
              "      <td>124.000000</td>\n",
              "      <td>97.500000</td>\n",
              "      <td>1.000000</td>\n",
              "      <td>24.000000</td>\n",
              "      <td>1.000000</td>\n",
              "      <td>0.000000</td>\n",
              "      <td>0.000000</td>\n",
              "      <td>0.000000</td>\n",
              "      <td>1.000000</td>\n",
              "      <td>3731.000000</td>\n",
              "      <td>0.000000</td>\n",
              "    </tr>\n",
              "    <tr>\n",
              "      <th>75%</th>\n",
              "      <td>4.000000</td>\n",
              "      <td>2007.000000</td>\n",
              "      <td>0.000000</td>\n",
              "      <td>0.000000</td>\n",
              "      <td>91.000000</td>\n",
              "      <td>155.000000</td>\n",
              "      <td>122.500000</td>\n",
              "      <td>1.000000</td>\n",
              "      <td>59.000000</td>\n",
              "      <td>1.000000</td>\n",
              "      <td>0.000000</td>\n",
              "      <td>0.000000</td>\n",
              "      <td>0.000000</td>\n",
              "      <td>1.000000</td>\n",
              "      <td>4740.000000</td>\n",
              "      <td>3.000000</td>\n",
              "    </tr>\n",
              "    <tr>\n",
              "      <th>max</th>\n",
              "      <td>5.000000</td>\n",
              "      <td>2019.000000</td>\n",
              "      <td>1.000000</td>\n",
              "      <td>1.000000</td>\n",
              "      <td>202.000000</td>\n",
              "      <td>306.000000</td>\n",
              "      <td>254.000000</td>\n",
              "      <td>1.000000</td>\n",
              "      <td>276.000000</td>\n",
              "      <td>1.000000</td>\n",
              "      <td>1.000000</td>\n",
              "      <td>1.000000</td>\n",
              "      <td>1.000000</td>\n",
              "      <td>1.000000</td>\n",
              "      <td>10051.000000</td>\n",
              "      <td>4.000000</td>\n",
              "    </tr>\n",
              "  </tbody>\n",
              "</table>\n",
              "</div>"
            ],
            "text/plain": [
              "           Rating      Founded      hourly  employer_provided  min_salary  \\\n",
              "count  742.000000   742.000000  742.000000         742.000000  742.000000   \n",
              "mean     3.618868  1837.154987    0.032345           0.022911   74.719677   \n",
              "std      0.801210   497.183763    0.177034           0.149721   30.980593   \n",
              "min     -1.000000    -1.000000    0.000000           0.000000   15.000000   \n",
              "25%      3.300000  1939.000000    0.000000           0.000000   52.000000   \n",
              "50%      3.700000  1988.000000    0.000000           0.000000   69.500000   \n",
              "75%      4.000000  2007.000000    0.000000           0.000000   91.000000   \n",
              "max      5.000000  2019.000000    1.000000           1.000000  202.000000   \n",
              "\n",
              "       max_salary  avg_salary  same_state         age   python_yn        R_yn  \\\n",
              "count  742.000000  742.000000  742.000000  742.000000  742.000000  742.000000   \n",
              "mean   128.149596  100.626011    0.557951   46.591644    0.528302    0.002695   \n",
              "std     45.220324   38.855948    0.496965   53.778815    0.499535    0.051882   \n",
              "min     16.000000   13.500000    0.000000   -1.000000    0.000000    0.000000   \n",
              "25%     96.000000   73.500000    0.000000   11.000000    0.000000    0.000000   \n",
              "50%    124.000000   97.500000    1.000000   24.000000    1.000000    0.000000   \n",
              "75%    155.000000  122.500000    1.000000   59.000000    1.000000    0.000000   \n",
              "max    306.000000  254.000000    1.000000  276.000000    1.000000    1.000000   \n",
              "\n",
              "            spark         aws       excel      desc_len    num_comp  \n",
              "count  742.000000  742.000000  742.000000    742.000000  742.000000  \n",
              "mean     0.225067    0.237197    0.522911   3869.545822    1.053908  \n",
              "std      0.417908    0.425651    0.499812   1521.495868    1.384239  \n",
              "min      0.000000    0.000000    0.000000    407.000000    0.000000  \n",
              "25%      0.000000    0.000000    0.000000   2801.000000    0.000000  \n",
              "50%      0.000000    0.000000    1.000000   3731.000000    0.000000  \n",
              "75%      0.000000    0.000000    1.000000   4740.000000    3.000000  \n",
              "max      1.000000    1.000000    1.000000  10051.000000    4.000000  "
            ]
          },
          "execution_count": 5,
          "metadata": {},
          "output_type": "execute_result"
        }
      ],
      "source": [
        "df.describe()        "
      ]
    },
    {
      "cell_type": "markdown",
      "id": "e40bd8a2",
      "metadata": {
        "id": "e40bd8a2"
      },
      "source": [
        "## Plotting the top job trends in the market"
      ]
    },
    {
      "cell_type": "code",
      "execution_count": null,
      "id": "42a99eeb",
      "metadata": {
        "id": "42a99eeb",
        "outputId": "3f4e4cc8-c08c-42e2-bdc2-1a5c5fc0dd6e"
      },
      "outputs": [
        {
          "data": {
            "text/plain": [
              "<AxesSubplot: >"
            ]
          },
          "execution_count": 6,
          "metadata": {},
          "output_type": "execute_result"
        },
        {
          "data": {
            "image/png": "[encoded data removed]",
            "text/plain": [
              "<Figure size 640x480 with 1 Axes>"
            ]
          },
          "metadata": {},
          "output_type": "display_data"
        }
      ],
      "source": [
        "df['Job Title'].value_counts().head(20).plot(kind='bar')"
      ]
    },
    {
      "cell_type": "markdown",
      "id": "924b9071",
      "metadata": {
        "id": "924b9071"
      },
      "source": [
        "# objective: To predict the average salary with respect to job skills"
      ]
    },
    {
      "cell_type": "code",
      "execution_count": null,
      "id": "b3bb5627",
      "metadata": {
        "id": "b3bb5627",
        "outputId": "927ad2c5-b4fe-4d9e-a9d9-1be6a2aa725b"
      },
      "outputs": [
        {
          "data": {
            "text/html": [
              "<div>\n",
              "<style scoped>\n",
              "    .dataframe tbody tr th:only-of-type {\n",
              "        vertical-align: middle;\n",
              "    }\n",
              "\n",
              "    .dataframe tbody tr th {\n",
              "        vertical-align: top;\n",
              "    }\n",
              "\n",
              "    .dataframe thead th {\n",
              "        text-align: right;\n",
              "    }\n",
              "</style>\n",
              "<table border=\"1\" class=\"dataframe\">\n",
              "  <thead>\n",
              "    <tr style=\"text-align: right;\">\n",
              "      <th></th>\n",
              "      <th>job_simp</th>\n",
              "      <th>python_yn</th>\n",
              "      <th>R_yn</th>\n",
              "      <th>spark</th>\n",
              "      <th>aws</th>\n",
              "      <th>excel</th>\n",
              "      <th>avg_salary</th>\n",
              "    </tr>\n",
              "  </thead>\n",
              "  <tbody>\n",
              "    <tr>\n",
              "      <th>0</th>\n",
              "      <td>data scientist</td>\n",
              "      <td>1</td>\n",
              "      <td>0</td>\n",
              "      <td>0</td>\n",
              "      <td>0</td>\n",
              "      <td>1</td>\n",
              "      <td>72.0</td>\n",
              "    </tr>\n",
              "    <tr>\n",
              "      <th>1</th>\n",
              "      <td>data scientist</td>\n",
              "      <td>1</td>\n",
              "      <td>0</td>\n",
              "      <td>0</td>\n",
              "      <td>0</td>\n",
              "      <td>0</td>\n",
              "      <td>87.5</td>\n",
              "    </tr>\n",
              "    <tr>\n",
              "      <th>2</th>\n",
              "      <td>data scientist</td>\n",
              "      <td>1</td>\n",
              "      <td>0</td>\n",
              "      <td>1</td>\n",
              "      <td>0</td>\n",
              "      <td>1</td>\n",
              "      <td>85.0</td>\n",
              "    </tr>\n",
              "    <tr>\n",
              "      <th>3</th>\n",
              "      <td>data scientist</td>\n",
              "      <td>1</td>\n",
              "      <td>0</td>\n",
              "      <td>0</td>\n",
              "      <td>0</td>\n",
              "      <td>0</td>\n",
              "      <td>76.5</td>\n",
              "    </tr>\n",
              "    <tr>\n",
              "      <th>4</th>\n",
              "      <td>data scientist</td>\n",
              "      <td>1</td>\n",
              "      <td>0</td>\n",
              "      <td>0</td>\n",
              "      <td>0</td>\n",
              "      <td>1</td>\n",
              "      <td>114.5</td>\n",
              "    </tr>\n",
              "    <tr>\n",
              "      <th>...</th>\n",
              "      <td>...</td>\n",
              "      <td>...</td>\n",
              "      <td>...</td>\n",
              "      <td>...</td>\n",
              "      <td>...</td>\n",
              "      <td>...</td>\n",
              "      <td>...</td>\n",
              "    </tr>\n",
              "    <tr>\n",
              "      <th>737</th>\n",
              "      <td>NaN</td>\n",
              "      <td>0</td>\n",
              "      <td>0</td>\n",
              "      <td>0</td>\n",
              "      <td>1</td>\n",
              "      <td>0</td>\n",
              "      <td>84.5</td>\n",
              "    </tr>\n",
              "    <tr>\n",
              "      <th>738</th>\n",
              "      <td>data engineer</td>\n",
              "      <td>1</td>\n",
              "      <td>0</td>\n",
              "      <td>1</td>\n",
              "      <td>1</td>\n",
              "      <td>0</td>\n",
              "      <td>102.5</td>\n",
              "    </tr>\n",
              "    <tr>\n",
              "      <th>739</th>\n",
              "      <td>NaN</td>\n",
              "      <td>0</td>\n",
              "      <td>0</td>\n",
              "      <td>0</td>\n",
              "      <td>0</td>\n",
              "      <td>1</td>\n",
              "      <td>73.5</td>\n",
              "    </tr>\n",
              "    <tr>\n",
              "      <th>740</th>\n",
              "      <td>manager</td>\n",
              "      <td>0</td>\n",
              "      <td>0</td>\n",
              "      <td>0</td>\n",
              "      <td>0</td>\n",
              "      <td>1</td>\n",
              "      <td>127.5</td>\n",
              "    </tr>\n",
              "    <tr>\n",
              "      <th>741</th>\n",
              "      <td>NaN</td>\n",
              "      <td>1</td>\n",
              "      <td>0</td>\n",
              "      <td>0</td>\n",
              "      <td>0</td>\n",
              "      <td>0</td>\n",
              "      <td>93.5</td>\n",
              "    </tr>\n",
              "  </tbody>\n",
              "</table>\n",
              "<p>742 rows × 7 columns</p>\n",
              "</div>"
            ],
            "text/plain": [
              "           job_simp  python_yn  R_yn  spark  aws  excel  avg_salary\n",
              "0    data scientist          1     0      0    0      1        72.0\n",
              "1    data scientist          1     0      0    0      0        87.5\n",
              "2    data scientist          1     0      1    0      1        85.0\n",
              "3    data scientist          1     0      0    0      0        76.5\n",
              "4    data scientist          1     0      0    0      1       114.5\n",
              "..              ...        ...   ...    ...  ...    ...         ...\n",
              "737             NaN          0     0      0    1      0        84.5\n",
              "738   data engineer          1     0      1    1      0       102.5\n",
              "739             NaN          0     0      0    0      1        73.5\n",
              "740         manager          0     0      0    0      1       127.5\n",
              "741             NaN          1     0      0    0      0        93.5\n",
              "\n",
              "[742 rows x 7 columns]"
            ]
          },
          "execution_count": 7,
          "metadata": {},
          "output_type": "execute_result"
        }
      ],
      "source": [
        "job_skill = df[['job_simp','python_yn', 'R_yn','spark','aws','excel','avg_salary']].copy()\n",
        "job_skill"
      ]
    },
    {
      "cell_type": "markdown",
      "id": "67d99ab6",
      "metadata": {
        "id": "67d99ab6"
      },
      "source": [
        "## Cleaning the data by using inbuilt functions and removing all null attributes"
      ]
    },
    {
      "cell_type": "code",
      "execution_count": null,
      "id": "f9f22868",
      "metadata": {
        "id": "f9f22868",
        "outputId": "c9368f7e-4633-49bb-84c3-9fb63355ffbb"
      },
      "outputs": [
        {
          "data": {
            "text/plain": [
              "job_simp       True\n",
              "python_yn     False\n",
              "R_yn          False\n",
              "spark         False\n",
              "aws           False\n",
              "excel         False\n",
              "avg_salary    False\n",
              "dtype: bool"
            ]
          },
          "execution_count": 8,
          "metadata": {},
          "output_type": "execute_result"
        }
      ],
      "source": [
        "job_skill.isnull().any() #checking if there are any null values"
      ]
    },
    {
      "cell_type": "code",
      "execution_count": null,
      "id": "add4fd59",
      "metadata": {
        "id": "add4fd59",
        "outputId": "8cd9ac73-8690-4a99-f5fa-8a40d0fa0916"
      },
      "outputs": [
        {
          "data": {
            "text/plain": [
              "job_simp      False\n",
              "python_yn     False\n",
              "R_yn          False\n",
              "spark         False\n",
              "aws           False\n",
              "excel         False\n",
              "avg_salary    False\n",
              "dtype: bool"
            ]
          },
          "execution_count": 9,
          "metadata": {},
          "output_type": "execute_result"
        }
      ],
      "source": [
        "job_skill = job_skill.dropna() #to remove null valued records\n",
        "job_skill.isnull().any()"
      ]
    },
    {
      "cell_type": "code",
      "execution_count": null,
      "id": "4f1f20ab",
      "metadata": {
        "scrolled": true,
        "id": "4f1f20ab",
        "outputId": "1824f9df-ba07-4db0-d51f-2684b380c06a"
      },
      "outputs": [
        {
          "name": "stdout",
          "output_type": "stream",
          "text": [
            "<class 'pandas.core.frame.DataFrame'>\n",
            "Int64Index: 558 entries, 0 to 740\n",
            "Data columns (total 7 columns):\n",
            " #   Column      Non-Null Count  Dtype  \n",
            "---  ------      --------------  -----  \n",
            " 0   job_simp    558 non-null    object \n",
            " 1   python_yn   558 non-null    int64  \n",
            " 2   R_yn        558 non-null    int64  \n",
            " 3   spark       558 non-null    int64  \n",
            " 4   aws         558 non-null    int64  \n",
            " 5   excel       558 non-null    int64  \n",
            " 6   avg_salary  558 non-null    float64\n",
            "dtypes: float64(1), int64(5), object(1)\n",
            "memory usage: 34.9+ KB\n"
          ]
        }
      ],
      "source": [
        "job_skill.info() #cleaned dataset"
      ]
    },
    {
      "cell_type": "markdown",
      "id": "6b1bdef7",
      "metadata": {
        "id": "6b1bdef7"
      },
      "source": [
        "## Plotting the top job domains"
      ]
    },
    {
      "cell_type": "code",
      "execution_count": null,
      "id": "5ec8c561",
      "metadata": {
        "scrolled": false,
        "id": "5ec8c561",
        "outputId": "5ca7142d-d4bd-4f48-922b-5acc385c5275"
      },
      "outputs": [
        {
          "data": {
            "text/plain": [
              "<AxesSubplot: >"
            ]
          },
          "execution_count": 11,
          "metadata": {},
          "output_type": "execute_result"
        },
        {
          "data": {
            "image/png": "[encoded data removed]",
            "text/plain": [
              "<Figure size 640x480 with 1 Axes>"
            ]
          },
          "metadata": {},
          "output_type": "display_data"
        }
      ],
      "source": [
        "job_skill['job_simp'].value_counts().plot(kind='bar')"
      ]
    },
    {
      "cell_type": "markdown",
      "id": "f75fcfa9",
      "metadata": {
        "id": "f75fcfa9"
      },
      "source": [
        "# As we are considering binary data attributes we are applying regression models"
      ]
    },
    {
      "cell_type": "markdown",
      "id": "8c77dd54",
      "metadata": {
        "id": "8c77dd54"
      },
      "source": [
        "# 1.Linear Regression Model"
      ]
    },
    {
      "cell_type": "markdown",
      "id": "dc1e719d",
      "metadata": {
        "id": "dc1e719d"
      },
      "source": [
        "## Data pre-processing:"
      ]
    },
    {
      "cell_type": "code",
      "execution_count": null,
      "id": "908e5b64",
      "metadata": {
        "scrolled": true,
        "id": "908e5b64"
      },
      "outputs": [],
      "source": [
        "# Considering the skills set to predict the salaries\n",
        "features = ['python_yn', 'R_yn', 'spark', 'aws', 'excel']\n",
        "x = job_skill[features]\n",
        "\n",
        "# average salary is predicted by using the skillSet\n",
        "y = job_skill['avg_salary']"
      ]
    },
    {
      "cell_type": "markdown",
      "id": "6375abe8",
      "metadata": {
        "id": "6375abe8"
      },
      "source": [
        "## Training the Model"
      ]
    },
    {
      "cell_type": "code",
      "execution_count": null,
      "id": "d7fbcee2",
      "metadata": {
        "id": "d7fbcee2"
      },
      "outputs": [],
      "source": [
        "# Split the data into training and testing sets\n",
        "x_train, x_test, y_train, y_test = train_test_split(x, y, test_size=0.2, random_state=42)\n",
        "\n",
        "# Fit the logistic regression model to the training data\n",
        "model = LinearRegression()\n",
        "model.fit(x_train, y_train)\n",
        "\n",
        "# Make predictions on the test set\n",
        "y_pred = model.predict(x_test)"
      ]
    },
    {
      "cell_type": "markdown",
      "id": "035ab717",
      "metadata": {
        "id": "035ab717"
      },
      "source": [
        "## Plotting the Graph"
      ]
    },
    {
      "cell_type": "code",
      "execution_count": null,
      "id": "04c60c08",
      "metadata": {
        "scrolled": false,
        "id": "04c60c08",
        "outputId": "9dc3adb7-2ce7-4e0b-8d18-eae4bf43daf1"
      },
      "outputs": [
        {
          "data": {
            "image/png": "[encoded data removed]",
            "text/plain": [
              "<Figure size 640x480 with 1 Axes>"
            ]
          },
          "metadata": {},
          "output_type": "display_data"
        }
      ],
      "source": [
        "# Ploting the actual vs predicted values as a scatter plot\n",
        "plt.scatter(y_test, y_pred, marker='+', color='green')\n",
        "\n",
        "# Plot the prediction line\n",
        "x = np.linspace(min(y_test), max(y_test), 100)\n",
        "y = x\n",
        "plt.plot(x, y, '--r', label='Perfect Prediction Line')\n",
        "\n",
        "# Add labels, title and legend\n",
        "plt.xlabel('Actual Values')\n",
        "plt.ylabel('Predicted Values')\n",
        "plt.title('Actual vs Predicted Values(Linear Regression)')\n",
        "plt.legend()\n",
        "\n",
        "# Show the plot\n",
        "plt.show()"
      ]
    },
    {
      "cell_type": "markdown",
      "id": "4662e221",
      "metadata": {
        "id": "4662e221"
      },
      "source": [
        "## Accuracy of the trained Model"
      ]
    },
    {
      "cell_type": "code",
      "execution_count": null,
      "id": "011c2274",
      "metadata": {
        "id": "011c2274",
        "outputId": "22a9770c-ac98-4b58-c027-7a4467c5e773"
      },
      "outputs": [
        {
          "name": "stdout",
          "output_type": "stream",
          "text": [
            "Mean Absolute Error:  29.86337168221441\n",
            "Mean Squared Error:  1367.9385882344116\n",
            "Accuracy in percentage:  71.94805440128974 %\n"
          ]
        }
      ],
      "source": [
        "lmae = mean_absolute_error(y_test, y_pred)\n",
        "lmse = mean_squared_error(y_test, y_pred)\n",
        "laccuracy = 100 - (lmae / y_train.mean()) * 100\n",
        "print('Mean Absolute Error: ',lmae)\n",
        "print('Mean Squared Error: ',lmse)\n",
        "print('Accuracy in percentage: ', laccuracy, '%')"
      ]
    },
    {
      "cell_type": "markdown",
      "id": "6a2d7627",
      "metadata": {
        "id": "6a2d7627"
      },
      "source": [
        "# 2.Random Forest Regression"
      ]
    },
    {
      "cell_type": "markdown",
      "id": "49bdecd6",
      "metadata": {
        "id": "49bdecd6"
      },
      "source": [
        "## Data Pre-processing"
      ]
    },
    {
      "cell_type": "code",
      "execution_count": null,
      "id": "4cfa7965",
      "metadata": {
        "id": "4cfa7965"
      },
      "outputs": [],
      "source": [
        "X = data[['python_yn', 'R_yn', 'spark', 'aws', 'excel']]\n",
        "y = data['avg_salary']\n",
        "\n",
        "# Normalize the data\n",
        "scaler = StandardScaler()\n",
        "X = scaler.fit_transform(X)\n",
        "y = scaler.fit_transform(y.values.reshape(-1, 1))"
      ]
    },
    {
      "cell_type": "markdown",
      "id": "e23b64a1",
      "metadata": {
        "id": "e23b64a1"
      },
      "source": [
        "## Training the Model"
      ]
    },
    {
      "cell_type": "code",
      "execution_count": null,
      "id": "adf78c59",
      "metadata": {
        "id": "adf78c59"
      },
      "outputs": [],
      "source": [
        "# Split the data into training and test sets\n",
        "X_train, X_test, y_train, y_test = train_test_split(X, y, test_size=0.2, random_state=42)\n",
        "\n",
        "# Train the model\n",
        "regr = RandomForestRegressor(n_estimators=100, random_state=42)\n",
        "regr.fit(X_train, y_train.ravel())\n",
        "\n",
        "# Make predictions on the test set\n",
        "y_pred = regr.predict(X_test)\n",
        "\n",
        "# Denormalize the data\n",
        "y_train = scaler.inverse_transform(y_train)"
      ]
    },
    {
      "cell_type": "markdown",
      "id": "d5e9a328",
      "metadata": {
        "id": "d5e9a328"
      },
      "source": [
        "## Plotting the graph"
      ]
    },
    {
      "cell_type": "code",
      "execution_count": null,
      "id": "56676795",
      "metadata": {
        "id": "56676795",
        "outputId": "603c8ac3-6dfa-4d82-e5a4-4ab668c30644"
      },
      "outputs": [
        {
          "data": {
            "image/png": "[encoded data removed]",
            "text/plain": [
              "<Figure size 640x480 with 1 Axes>"
            ]
          },
          "metadata": {},
          "output_type": "display_data"
        }
      ],
      "source": [
        "# Ploting the actual vs predicted values as a scatter plot\n",
        "plt.scatter(y_test, y_pred, marker='+', color='green')\n",
        "\n",
        "# Plot the prediction line\n",
        "x = np.linspace(min(y_test), max(y_test), 100)\n",
        "y = x\n",
        "plt.plot(x, y, '--r', label='Perfect Prediction Line')\n",
        "\n",
        "# Add labels, title and legend\n",
        "plt.xlabel('Actual Values')\n",
        "plt.ylabel('Predicted Values')\n",
        "plt.title('Actual vs Predicted Values(Random Forest Regression)')\n",
        "plt.legend()\n",
        "\n",
        "# Show the plot\n",
        "plt.show()"
      ]
    },
    {
      "cell_type": "markdown",
      "id": "e6027a45",
      "metadata": {
        "id": "e6027a45"
      },
      "source": [
        "## Accuracy of the trained Model"
      ]
    },
    {
      "cell_type": "code",
      "execution_count": null,
      "id": "05dee2e6",
      "metadata": {
        "id": "05dee2e6",
        "outputId": "314ea2f9-6480-4a8f-e5c7-cf2549803bc6"
      },
      "outputs": [
        {
          "name": "stdout",
          "output_type": "stream",
          "text": [
            "Mean Absolute Error:  0.6778579435924728\n",
            "Mean Squared Error:  0.7164444144084666\n",
            "Accuracy in percentage:  99.47158064988953 %\n"
          ]
        }
      ],
      "source": [
        "rmae = mean_absolute_error(y_test, y_pred)\n",
        "rmse = mean_squared_error(y_test, y_pred)\n",
        "raccuracy = 100 - (rmae / y_train.mean()) * 100\n",
        "print('Mean Absolute Error: ',rmae)\n",
        "print('Mean Squared Error: ',rmse)\n",
        "print('Accuracy in percentage: ', raccuracy, '%')"
      ]
    },
    {
      "cell_type": "markdown",
      "id": "771222ae",
      "metadata": {
        "id": "771222ae"
      },
      "source": [
        "# Conclusion"
      ]
    },
    {
      "cell_type": "markdown",
      "id": "37b7ff9c",
      "metadata": {
        "id": "37b7ff9c"
      },
      "source": [
        "## Comparing two algorithms"
      ]
    },
    {
      "cell_type": "code",
      "execution_count": null,
      "id": "fcc26f55",
      "metadata": {
        "id": "fcc26f55",
        "outputId": "3faa0e6d-a384-40fc-de1b-2647c97df43b"
      },
      "outputs": [
        {
          "name": "stdout",
          "output_type": "stream",
          "text": [
            "+---------------------+--------------------+----------------------------+--------------------+\n",
            "| Linear Regression   |                    | Random Forest Regression   |                    |\n",
            "+=====================+====================+============================+====================+\n",
            "| MAE                 | MSE                | MAE                        | MSE                |\n",
            "+---------------------+--------------------+----------------------------+--------------------+\n",
            "| 29.86337168221441   | 1367.9385882344116 | 0.6778579435924728         | 0.7164444144084666 |\n",
            "+---------------------+--------------------+----------------------------+--------------------+\n",
            "| Accuracy(%)         |                    | Accuracy(%)                |                    |\n",
            "+---------------------+--------------------+----------------------------+--------------------+\n",
            "| 71.94805440128974   |                    | 99.47158064988953          |                    |\n",
            "+---------------------+--------------------+----------------------------+--------------------+\n"
          ]
        }
      ],
      "source": [
        "from tabulate import tabulate\n",
        "\n",
        "data = [['Linear Regression','','Random Forest Regression',''],\n",
        "    ['MAE', 'MSE', 'MAE', 'MSE'],\n",
        "    [lmae,lmse,rmae,rmse],\n",
        "    ['Accuracy(%)','', 'Accuracy(%)', ''],\n",
        "    [laccuracy, '', raccuracy, ''],\n",
        "]\n",
        "\n",
        "print(tabulate(data, headers='firstrow', tablefmt='grid'))\n"
      ]
    },
    {
      "cell_type": "markdown",
      "id": "c323ec5c",
      "metadata": {
        "id": "c323ec5c"
      },
      "source": [
        "Based on the analysis of the data, it can be concluded that the Random Forest Regression model performs better than the Linear Regression model. The Random Forest Regression model has a lower Mean Absolute Error (0.68) and Mean Squared Error (0.72) compared to the Linear Regression model (29.86 and 1367.94 respectively). Additionally, the accuracy of the Random Forest Regression model is higher at 99.47% compared to 71.95% for the Linear Regression model. "
      ]
    }
  ],
  "metadata": {
    "kernelspec": {
      "display_name": "Python 3 (ipykernel)",
      "language": "python",
      "name": "python3"
    },
    "language_info": {
      "codemirror_mode": {
        "name": "ipython",
        "version": 3
      },
      "file_extension": ".py",
      "mimetype": "text/x-python",
      "name": "python",
      "nbconvert_exporter": "python",
      "pygments_lexer": "ipython3",
      "version": "3.10.6"
    },
    "colab": {
      "provenance": [],
      "toc_visible": true,
      "include_colab_link": true
    }
  },
  "nbformat": 4,
  "nbformat_minor": 5
}